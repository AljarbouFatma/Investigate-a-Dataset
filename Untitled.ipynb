{
 "cells": [
  {
   "cell_type": "code",
   "execution_count": 2,
   "metadata": {},
   "outputs": [
    {
     "name": "stdout",
     "output_type": "stream",
     "text": [
      "Writing file.txt\n"
     ]
    }
   ],
   "source": [
    "%%writefile file.txt\n",
    "This is my first program.\n",
    "We are the students of Master’s in Data Science, Hello! How are you?\n",
    "We are here to learn the python script, this is it now."
   ]
  },
  {
   "cell_type": "code",
   "execution_count": 3,
   "metadata": {},
   "outputs": [
    {
     "data": {
      "text/plain": [
       "'This is my first program.\\nWe are the students of Master’s in Data Science, Hello! How are you?\\nWe are here to learn the python script, this is it now.\\n'"
      ]
     },
     "execution_count": 3,
     "metadata": {},
     "output_type": "execute_result"
    }
   ],
   "source": [
    "open('file.txt', encoding='utf8').read()"
   ]
  },
  {
   "cell_type": "code",
   "execution_count": 4,
   "metadata": {},
   "outputs": [
    {
     "name": "stdout",
     "output_type": "stream",
     "text": [
      "Number of lines in file is:  4\n"
     ]
    },
    {
     "data": {
      "text/plain": [
       "['This is my first program.\\n',\n",
       " 'We are the students of Master’s in Data Science, Hello! How are you?\\n',\n",
       " 'We are here to learn the python script, this is it now.\\n',\n",
       " '']"
      ]
     },
     "execution_count": 4,
     "metadata": {},
     "output_type": "execute_result"
    }
   ],
   "source": [
    "# this will open the file \n",
    "fileFatma = open('file.txt', encoding='utf8') \n",
    "readFatma = fileFatma.read() \n",
    "fileFatma.seek(0) \n",
    "readFatma \n",
    "  \n",
    "# to obtain the number of lines in file \n",
    "line = 1\n",
    "for word in readFatma: \n",
    "    if word == '\\n': \n",
    "        line += 1\n",
    "print(\"Number of lines in file is: \", line) \n",
    "  \n",
    "# create a list to store each line as an element of list \n",
    "array = [] \n",
    "for i in range(line): \n",
    "    array.append(fileFatma.readline()) \n",
    "  \n",
    "array "
   ]
  },
  {
   "cell_type": "code",
   "execution_count": 5,
   "metadata": {},
   "outputs": [
    {
     "name": "stdout",
     "output_type": "stream",
     "text": [
      "This is my first program\n",
      "We are the students of Master’s in Data Science Hello How are you\n",
      "We are here to learn the python script this is it now\n",
      "\n"
     ]
    }
   ],
   "source": [
    "punctuations = '''!()-[]{};:'\"\\,<>./?@#$%^&*_~'''\n",
    "\n",
    "\n",
    "# remove punctuation from the string\n",
    "no_punct = \"\"\n",
    "for char in readFatma:\n",
    "    if char not in punctuations:\n",
    "        no_punct = no_punct + char\n",
    "\n",
    "# display the unpunctuated string\n",
    "print(no_punct)\n"
   ]
  },
  {
   "cell_type": "code",
   "execution_count": 6,
   "metadata": {},
   "outputs": [
    {
     "name": "stderr",
     "output_type": "stream",
     "text": [
      "[nltk_data] Downloading package punkt to /Users/fatma/nltk_data...\n",
      "[nltk_data]   Package punkt is already up-to-date!\n"
     ]
    },
    {
     "data": {
      "text/plain": [
       "['This is my first program\\nWe are the students of Master’s in Data Science Hello How are you\\nWe are here to learn the python script this is it now']"
      ]
     },
     "execution_count": 6,
     "metadata": {},
     "output_type": "execute_result"
    }
   ],
   "source": [
    "import nltk\n",
    "nltk.download('punkt')\n",
    "\n",
    "from nltk.tokenize import sent_tokenize\n",
    "\n",
    "tokenizer= nltk.data.load('tokenizers/punkt/PY3/english.pickle')\n",
    "tokenizer.tokenize(no_punct)"
   ]
  },
  {
   "cell_type": "code",
   "execution_count": 7,
   "metadata": {},
   "outputs": [
    {
     "name": "stdout",
     "output_type": "stream",
     "text": [
      "['This', 'first', 'program', 'We', 'students', 'Master', '’', 'Data', 'Science', 'Hello', 'How', 'We', 'learn', 'python', 'script']\n"
     ]
    },
    {
     "name": "stderr",
     "output_type": "stream",
     "text": [
      "[nltk_data] Downloading package stopwords to /Users/fatma/nltk_data...\n",
      "[nltk_data]   Package stopwords is already up-to-date!\n"
     ]
    }
   ],
   "source": [
    "from nltk.tokenize import word_tokenize \n",
    "# You will have to download the set of stop words the first time\n",
    "import nltk \n",
    "# Load library\n",
    "from nltk.corpus import stopwords \n",
    "nltk.download('stopwords') \n",
    "  \n",
    "for i in range(1): \n",
    "    # this will convert the word into tokens \n",
    "    tokenized_words = word_tokenize(no_punct) \n",
    "# Remove stop words\n",
    "Remove_Stop_Words = [ \n",
    "    word for word in tokenized_words if not word in stopwords.words()] \n",
    "  \n",
    "print(Remove_Stop_Words)"
   ]
  },
  {
   "cell_type": "code",
   "execution_count": 8,
   "metadata": {},
   "outputs": [
    {
     "data": {
      "text/plain": [
       "{'first': [1],\n",
       " 'program': [1],\n",
       " 'students': [2],\n",
       " '’': [2],\n",
       " 'learn': [3],\n",
       " 'python': [3],\n",
       " 'script': [3]}"
      ]
     },
     "execution_count": 8,
     "metadata": {},
     "output_type": "execute_result"
    }
   ],
   "source": [
    "dictionary = {} \n",
    "  \n",
    "for i in range(line): \n",
    "    check = array[i].lower() \n",
    "    for item in Remove_Stop_Words: \n",
    "  \n",
    "        if item in check: \n",
    "            if item not in dictionary: \n",
    "                dictionary[item] = [] \n",
    "  \n",
    "            if item in dictionary: \n",
    "                dictionary[item].append(i+1) \n",
    "  \n",
    "dictionary"
   ]
  },
  {
   "cell_type": "code",
   "execution_count": null,
   "metadata": {},
   "outputs": [],
   "source": []
  }
 ],
 "metadata": {
  "kernelspec": {
   "display_name": "Python 3",
   "language": "python",
   "name": "python3"
  },
  "language_info": {
   "codemirror_mode": {
    "name": "ipython",
    "version": 3
   },
   "file_extension": ".py",
   "mimetype": "text/x-python",
   "name": "python",
   "nbconvert_exporter": "python",
   "pygments_lexer": "ipython3",
   "version": "3.8.5"
  }
 },
 "nbformat": 4,
 "nbformat_minor": 4
}
